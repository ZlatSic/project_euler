{
 "cells": [
  {
   "cell_type": "code",
   "execution_count": 2,
   "metadata": {},
   "outputs": [
    {
     "data": {
      "text/plain": [
       "233168"
      ]
     },
     "execution_count": 2,
     "metadata": {},
     "output_type": "execute_result"
    }
   ],
   "source": [
    "print(sum([i for i in range(1000) if not i % 3 or not i % 5]))"
   ]
  },
  {
   "cell_type": "code",
   "execution_count": 11,
   "metadata": {},
   "outputs": [
    {
     "data": {
      "text/plain": [
       "4613732"
      ]
     },
     "execution_count": 11,
     "metadata": {},
     "output_type": "execute_result"
    }
   ],
   "source": [
    "fibonacci = [1, 1]\n",
    "\n",
    "while fibonacci[-1] < 4e6:\n",
    "    fibonacci += [fibonacci[-1] + fibonacci[-2]]\n",
    "    \n",
    "sum([x for x in fibonacci if not x % 2])"
   ]
  },
  {
   "cell_type": "code",
   "execution_count": 35,
   "metadata": {},
   "outputs": [
    {
     "data": {
      "text/plain": [
       "[2, 5]"
      ]
     },
     "execution_count": 35,
     "metadata": {},
     "output_type": "execute_result"
    }
   ],
   "source": [
    "def factorize(number):\n",
    "    root = int(math.sqrt(number))\n",
    "    primes = []\n",
    "    non_primes = []\n",
    "    for i in range(2, root):\n",
    "        if i in non_primes:\n",
    "            continue\n",
    "        if not number % i:\n",
    "            primes += [i]\n",
    "            non_primes += [ind for ind in range(i, root, i)]\n",
    "    return primes\n",
    "\n",
    "factorize(600851475143)"
   ]
  },
  {
   "cell_type": "code",
   "execution_count": 67,
   "metadata": {},
   "outputs": [],
   "source": [
    "def is_palindrome(number):\n",
    "    number = str(number)\n",
    "    return all([number[i] == number[-(i+1)]for i in range(int(len(number)/2))])\n",
    "\n",
    "is_palindrome(12344321)"
   ]
  },
  {
   "cell_type": "code",
   "execution_count": 98,
   "metadata": {},
   "outputs": [
    {
     "data": {
      "text/plain": [
       "906609"
      ]
     },
     "execution_count": 98,
     "metadata": {},
     "output_type": "execute_result"
    }
   ],
   "source": [
    "palindromes = []\n",
    "for i in range(1000, 100, -1):\n",
    "    for j in range(i, 100, -1):\n",
    "        if is_palindrome(i * j):\n",
    "            palindromes += [i * j]\n",
    "max(palindromes)"
   ]
  },
  {
   "cell_type": "code",
   "execution_count": 97,
   "metadata": {},
   "outputs": [
    {
     "name": "stdout",
     "output_type": "stream",
     "text": [
      "232792560\n"
     ]
    }
   ],
   "source": [
    "def satisfied(number, length):\n",
    "    return all([not number % i for i in range(1, length + 1)])\n",
    "\n",
    "\n",
    "for i in range(210, math.factorial(20), 210):\n",
    "    if satisfied(i, 20):\n",
    "        print(i)\n",
    "        break\n",
    "\n"
   ]
  },
  {
   "cell_type": "code",
   "execution_count": 100,
   "metadata": {},
   "outputs": [
    {
     "data": {
      "text/plain": [
       "25164150"
      ]
     },
     "execution_count": 100,
     "metadata": {},
     "output_type": "execute_result"
    }
   ],
   "source": [
    "sum(range(1, 101))**2 - sum([i**2 for i in range(1, 101)])"
   ]
  },
  {
   "cell_type": "code",
   "execution_count": 115,
   "metadata": {},
   "outputs": [
    {
     "data": {
      "text/plain": [
       "104743"
      ]
     },
     "execution_count": 115,
     "metadata": {},
     "output_type": "execute_result"
    }
   ],
   "source": [
    "primes = [2, 3]\n",
    "cond = 10001\n",
    "i = 5\n",
    "while(len(primes) < cond):\n",
    "    if all([i % p for p in primes]):\n",
    "        primes += [i]\n",
    "    i += 2\n",
    "primes[-1]"
   ]
  },
  {
   "cell_type": "code",
   "execution_count": 110,
   "metadata": {},
   "outputs": [
    {
     "data": {
      "text/plain": [
       "[2, 3]"
      ]
     },
     "execution_count": 110,
     "metadata": {},
     "output_type": "execute_result"
    }
   ],
   "source": [
    "primes"
   ]
  },
  {
   "cell_type": "code",
   "execution_count": 118,
   "metadata": {},
   "outputs": [],
   "source": [
    "number = '73167176531330624919225119674426574742355349194934\\\n",
    "96983520312774506326239578318016984801869478851843\\\n",
    "85861560789112949495459501737958331952853208805511\\\n",
    "12540698747158523863050715693290963295227443043557\\\n",
    "66896648950445244523161731856403098711121722383113\\\n",
    "62229893423380308135336276614282806444486645238749\\\n",
    "30358907296290491560440772390713810515859307960866\\\n",
    "70172427121883998797908792274921901699720888093776\\\n",
    "65727333001053367881220235421809751254540594752243\\\n",
    "52584907711670556013604839586446706324415722155397\\\n",
    "53697817977846174064955149290862569321978468622482\\\n",
    "83972241375657056057490261407972968652414535100474\\\n",
    "82166370484403199890008895243450658541227588666881\\\n",
    "16427171479924442928230863465674813919123162824586\\\n",
    "17866458359124566529476545682848912883142607690042\\\n",
    "24219022671055626321111109370544217506941658960408\\\n",
    "07198403850962455444362981230987879927244284909188\\\n",
    "84580156166097919133875499200524063689912560717606\\\n",
    "05886116467109405077541002256983155200055935729725\\\n",
    "71636269561882670428252483600823257530420752963450'"
   ]
  },
  {
   "cell_type": "code",
   "execution_count": 222,
   "metadata": {},
   "outputs": [
    {
     "name": "stdout",
     "output_type": "stream",
     "text": [
      "5576689664895\n",
      "23514624000\n"
     ]
    }
   ],
   "source": [
    "import numpy as np\n",
    "import operator\n",
    "from functools import reduce\n",
    "\n",
    "length = 13\n",
    "maximum = 0\n",
    "max_substring = None\n",
    "for i in range(len(number) - length + 1):\n",
    "    product = reduce(operator.mul, [int(a) for a in number[i:i + length]], 1)\n",
    "    # product = np.array([int(a) for a in number[i:i + length]]).prod()\n",
    "    if product > maximum:\n",
    "        maximum = product\n",
    "        max_substring = number[i:i + length]\n",
    "print(max_substring)\n",
    "print(maximum)\n"
   ]
  },
  {
   "cell_type": "code",
   "execution_count": 149,
   "metadata": {},
   "outputs": [
    {
     "name": "stdout",
     "output_type": "stream",
     "text": [
      "200 375 425.0\n",
      "31875000.0\n"
     ]
    }
   ],
   "source": [
    "for a in range(1, 1000):\n",
    "    for b in range(a, 1000):\n",
    "        c = math.sqrt(a**2 + b**2)\n",
    "        if c + a + b == 1000:\n",
    "            print(a, b, c)\n",
    "            print(a * b * c)\n",
    "            break"
   ]
  },
  {
   "cell_type": "code",
   "execution_count": 147,
   "metadata": {
    "collapsed": true
   },
   "outputs": [],
   "source": [
    "combinations = [(a, b, c) for a, b, c in zip(range(1, 1000), range(1, 1000), range(1, 1000)) if a + b + c == 1000]"
   ]
  },
  {
   "cell_type": "code",
   "execution_count": 148,
   "metadata": {},
   "outputs": [
    {
     "data": {
      "text/plain": [
       "[]"
      ]
     },
     "execution_count": 148,
     "metadata": {},
     "output_type": "execute_result"
    }
   ],
   "source": [
    "combinations"
   ]
  },
  {
   "cell_type": "code",
   "execution_count": 211,
   "metadata": {},
   "outputs": [
    {
     "data": {
      "text/plain": [
       "142913828922"
      ]
     },
     "execution_count": 211,
     "metadata": {},
     "output_type": "execute_result"
    }
   ],
   "source": [
    "primes = []\n",
    "cond = int(2e6)\n",
    "i = 2\n",
    "sieve = set([])\n",
    "root = math.sqrt(cond)\n",
    "\n",
    "while(len(primes) == 0 or i < cond):\n",
    "    if i < root:\n",
    "        if all([i % p for p in primes]):\n",
    "            primes += [i]\n",
    "            sieve = set(range(i**2, cond, i)) | sieve\n",
    "    else:\n",
    "        if i not in sieve:\n",
    "            primes += [i]\n",
    "    i += 1\n",
    "sum(primes)"
   ]
  },
  {
   "cell_type": "code",
   "execution_count": 223,
   "metadata": {},
   "outputs": [],
   "source": [
    "grid = '\\\n",
    "08 02 22 97 38 15 00 40 00 75 04 05 07 78 52 12 50 77 91 08\\n\\\n",
    "49 49 99 40 17 81 18 57 60 87 17 40 98 43 69 48 04 56 62 00\\n\\\n",
    "81 49 31 73 55 79 14 29 93 71 40 67 53 88 30 03 49 13 36 65\\n\\\n",
    "52 70 95 23 04 60 11 42 69 24 68 56 01 32 56 71 37 02 36 91\\n\\\n",
    "22 31 16 71 51 67 63 89 41 92 36 54 22 40 40 28 66 33 13 80\\n\\\n",
    "24 47 32 60 99 03 45 02 44 75 33 53 78 36 84 20 35 17 12 50\\n\\\n",
    "32 98 81 28 64 23 67 10 26 38 40 67 59 54 70 66 18 38 64 70\\n\\\n",
    "67 26 20 68 02 62 12 20 95 63 94 39 63 08 40 91 66 49 94 21\\n\\\n",
    "24 55 58 05 66 73 99 26 97 17 78 78 96 83 14 88 34 89 63 72\\n\\\n",
    "21 36 23 09 75 00 76 44 20 45 35 14 00 61 33 97 34 31 33 95\\n\\\n",
    "78 17 53 28 22 75 31 67 15 94 03 80 04 62 16 14 09 53 56 92\\n\\\n",
    "16 39 05 42 96 35 31 47 55 58 88 24 00 17 54 24 36 29 85 57\\n\\\n",
    "86 56 00 48 35 71 89 07 05 44 44 37 44 60 21 58 51 54 17 58\\n\\\n",
    "19 80 81 68 05 94 47 69 28 73 92 13 86 52 17 77 04 89 55 40\\n\\\n",
    "04 52 08 83 97 35 99 16 07 97 57 32 16 26 26 79 33 27 98 66\\n\\\n",
    "88 36 68 87 57 62 20 72 03 46 33 67 46 55 12 32 63 93 53 69\\n\\\n",
    "04 42 16 73 38 25 39 11 24 94 72 18 08 46 29 32 40 62 76 36\\n\\\n",
    "20 69 36 41 72 30 23 88 34 62 99 69 82 67 59 85 74 04 36 16\\n\\\n",
    "20 73 35 29 78 31 90 01 74 31 49 71 48 86 81 16 23 57 05 54\\n\\\n",
    "01 70 54 71 83 51 54 69 16 92 33 48 61 43 52 01 89 19 67 48'\n",
    "grid = grid.split('\\n')\n",
    "grid = [g.split(' ') for g in grid]\n",
    "grid = [[int(n) for n in l] for l in grid]\n",
    "\n",
    "grid = np.array(grid)"
   ]
  },
  {
   "cell_type": "code",
   "execution_count": 251,
   "metadata": {},
   "outputs": [
    {
     "data": {
      "text/plain": [
       "70600674"
      ]
     },
     "execution_count": 251,
     "metadata": {},
     "output_type": "execute_result"
    }
   ],
   "source": [
    "import operator\n",
    "from functools import reduce\n",
    "\n",
    "\n",
    "def max_diag_prod(grid, length):\n",
    "    rows = [[grid[r, c: c+length] for c in range(grid.shape[1] - length + 1)] for r in range(grid.shape[0])]\n",
    "    cols = [[grid[r: r+length, c] for r in range(grid.shape[1] - length + 1)] for c in range(grid.shape[0])]\n",
    "    diags = [[grid[r: r+length, c: c+length].diagonal() for c in range(grid.shape[1] - length + 1)] for r in range(grid.shape[0] - length + 1)]\n",
    "    diags2 = [[np.flipud(grid[r: r+length, c: c+length]).diagonal() for c in range(grid.shape[1] - length + 1)] for r in range(grid.shape[0] - length + 1)]\n",
    "    \n",
    "    values = [list(item) for sublist in rows + cols + diags + diags2 for item in sublist]\n",
    "    maximum = 0\n",
    "    for row in values:\n",
    "        product = reduce(operator.mul, row, 1)\n",
    "        if product > maximum:\n",
    "            maximum = product\n",
    "    return maximum\n",
    "\n",
    "max_diag_prod(grid, 4)"
   ]
  },
  {
   "cell_type": "code",
   "execution_count": 299,
   "metadata": {},
   "outputs": [
    {
     "data": {
      "text/plain": [
       "(3, [2, 3, 5, 13.0])"
      ]
     },
     "execution_count": 299,
     "metadata": {},
     "output_type": "execute_result"
    }
   ],
   "source": [
    "def is_triangle_number(num):\n",
    "    counter = [1]\n",
    "    while(sum(counter) < num):\n",
    "        counter += [counter[-1] + 1]\n",
    "    return sum(counter) == num\n",
    "\n",
    "def get_triangle_number(index):\n",
    "    return sum(range(index+1))\n",
    "\n",
    "def prime_factors(n):\n",
    "    i = 2\n",
    "    factors = []\n",
    "    while i * i <= n:\n",
    "        if n % i:\n",
    "            i += 1\n",
    "        else:\n",
    "            n //= i\n",
    "            factors.append(i)\n",
    "    if n > 1:\n",
    "        factors.append(n)\n",
    "    return factors\n",
    "\n",
    "def number_of_divisors(num, primes):\n",
    "    counter = 2\n",
    "    for p in primes:\n",
    "        while not num % p:\n",
    "            num /= p\n",
    "            counter += 1\n",
    "    if counter == 2:\n",
    "        primes += [int(num)]\n",
    "    elif num != 1:\n",
    "        primes += prime_factors(num)\n",
    "    return counter, primes\n",
    "\n",
    "number_of_divisors(26, [2, 3, 5])"
   ]
  },
  {
   "cell_type": "code",
   "execution_count": 297,
   "metadata": {},
   "outputs": [
    {
     "ename": "KeyboardInterrupt",
     "evalue": "",
     "output_type": "error",
     "traceback": [
      "\u001b[0;31m---------------------------------------------------------------------------\u001b[0m",
      "\u001b[0;31mKeyboardInterrupt\u001b[0m                         Traceback (most recent call last)",
      "\u001b[0;32m<ipython-input-297-f9648a225817>\u001b[0m in \u001b[0;36m<module>\u001b[0;34m()\u001b[0m\n\u001b[1;32m      5\u001b[0m     \u001b[0mi\u001b[0m \u001b[1;33m+=\u001b[0m \u001b[1;36m1\u001b[0m\u001b[1;33m\u001b[0m\u001b[0m\n\u001b[1;32m      6\u001b[0m     \u001b[0mnum\u001b[0m \u001b[1;33m+=\u001b[0m \u001b[0mi\u001b[0m\u001b[1;33m\u001b[0m\u001b[0m\n\u001b[0;32m----> 7\u001b[0;31m     \u001b[0mdivisors\u001b[0m\u001b[1;33m,\u001b[0m \u001b[0mprimes\u001b[0m \u001b[1;33m=\u001b[0m \u001b[0mnumber_of_divisors\u001b[0m\u001b[1;33m(\u001b[0m\u001b[0mnum\u001b[0m\u001b[1;33m,\u001b[0m \u001b[0mprimes\u001b[0m\u001b[1;33m)\u001b[0m\u001b[1;33m\u001b[0m\u001b[0m\n\u001b[0m\u001b[1;32m      8\u001b[0m \u001b[1;33m\u001b[0m\u001b[0m\n\u001b[1;32m      9\u001b[0m \u001b[0mnum\u001b[0m\u001b[1;33m\u001b[0m\u001b[0m\n",
      "\u001b[0;32m<ipython-input-290-c653c0d7e3f0>\u001b[0m in \u001b[0;36mnumber_of_divisors\u001b[0;34m(num, primes)\u001b[0m\n\u001b[1;32m     13\u001b[0m         \u001b[1;32mwhile\u001b[0m \u001b[1;32mnot\u001b[0m \u001b[0mnum\u001b[0m \u001b[1;33m%\u001b[0m \u001b[0mp\u001b[0m\u001b[1;33m:\u001b[0m\u001b[1;33m\u001b[0m\u001b[0m\n\u001b[1;32m     14\u001b[0m             \u001b[0mnum\u001b[0m \u001b[1;33m/=\u001b[0m \u001b[0mp\u001b[0m\u001b[1;33m\u001b[0m\u001b[0m\n\u001b[0;32m---> 15\u001b[0;31m             \u001b[0mcounter\u001b[0m \u001b[1;33m+=\u001b[0m \u001b[1;36m1\u001b[0m\u001b[1;33m\u001b[0m\u001b[0m\n\u001b[0m\u001b[1;32m     16\u001b[0m     \u001b[1;32mif\u001b[0m \u001b[0mcounter\u001b[0m \u001b[1;33m==\u001b[0m \u001b[1;36m2\u001b[0m \u001b[1;32mor\u001b[0m \u001b[0mnum\u001b[0m \u001b[1;33m!=\u001b[0m \u001b[1;36m1\u001b[0m\u001b[1;33m:\u001b[0m\u001b[1;33m\u001b[0m\u001b[0m\n\u001b[1;32m     17\u001b[0m         \u001b[0mprimes\u001b[0m \u001b[1;33m+=\u001b[0m \u001b[1;33m[\u001b[0m\u001b[0mnum\u001b[0m\u001b[1;33m]\u001b[0m\u001b[1;33m\u001b[0m\u001b[0m\n",
      "\u001b[0;31mKeyboardInterrupt\u001b[0m: "
     ]
    }
   ],
   "source": [
    "i = 1\n",
    "num = get_triangle_number(i)\n",
    "divisors, primes = number_of_divisors(num, [])\n",
    "while divisors < 5:\n",
    "    i += 1\n",
    "    num += i\n",
    "    divisors, primes = number_of_divisors(num, primes)\n",
    "\n",
    "num"
   ]
  },
  {
   "cell_type": "code",
   "execution_count": 300,
   "metadata": {},
   "outputs": [
    {
     "data": {
      "text/plain": [
       "(2, [20])"
      ]
     },
     "execution_count": 300,
     "metadata": {},
     "output_type": "execute_result"
    }
   ],
   "source": [
    "number_of_divisors(20, [])"
   ]
  },
  {
   "cell_type": "code",
   "execution_count": 298,
   "metadata": {},
   "outputs": [
    {
     "data": {
      "text/plain": [
       "[1]"
      ]
     },
     "execution_count": 298,
     "metadata": {},
     "output_type": "execute_result"
    }
   ],
   "source": [
    "primes"
   ]
  },
  {
   "cell_type": "code",
   "execution_count": 9,
   "metadata": {},
   "outputs": [
    {
     "data": {
      "text/plain": [
       "1074"
      ]
     },
     "execution_count": 9,
     "metadata": {},
     "output_type": "execute_result"
    }
   ],
   "source": [
    "triangle = \"\"\"75\n",
    "95 64\n",
    "17 47 82\n",
    "18 35 87 10\n",
    "20 04 82 47 65\n",
    "19 01 23 75 03 34\n",
    "88 02 77 73 07 63 67\n",
    "99 65 04 28 06 16 70 92\n",
    "41 41 26 56 83 40 80 70 33\n",
    "41 48 72 33 47 32 37 16 94 29\n",
    "53 71 44 65 25 43 91 52 97 51 14\n",
    "70 11 33 28 77 73 17 78 39 68 17 57\n",
    "91 71 52 38 17 14 91 43 58 50 27 29 48\n",
    "63 66 04 68 89 53 67 30 73 16 69 87 40 31\n",
    "04 62 98 27 23 09 70 98 73 93 38 53 60 04 23\"\"\"\n",
    "triangle = [[int(v) for v in row.split(' ')] for row in triangle.split('\\n')]\n",
    "\n",
    "def backtrack(tree, loc):\n",
    "    if len(tree) == 1:\n",
    "        return max(tree[0][loc], tree[0][loc + 1])\n",
    "    if len(tree[0]) == 1:\n",
    "        return tree[0][0] + backtrack(tree[1:], 0)\n",
    "    else:\n",
    "        return max(tree[0][loc] + backtrack(tree[1:], loc),\n",
    "                   tree[0][loc + 1] + backtrack(tree[1:], loc + 1))\n",
    "\n",
    "backtrack(triangle, 0)"
   ]
  },
  {
   "cell_type": "code",
   "execution_count": 2,
   "metadata": {},
   "outputs": [
    {
     "data": {
      "text/plain": [
       "[[75],\n",
       " [95, 64],\n",
       " [17, 47, 82],\n",
       " [18, 35, 87, 10],\n",
       " [20, 4, 82, 47, 65],\n",
       " [19, 1, 23, 75, 3, 34],\n",
       " [88, 2, 77, 73, 7, 63, 67],\n",
       " [99, 65, 4, 28, 6, 16, 70, 92],\n",
       " [41, 41, 26, 56, 83, 40, 80, 70, 33],\n",
       " [41, 48, 72, 33, 47, 32, 37, 16, 94, 29],\n",
       " [53, 71, 44, 65, 25, 43, 91, 52, 97, 51, 14],\n",
       " [70, 11, 33, 28, 77, 73, 17, 78, 39, 68, 17, 57],\n",
       " [91, 71, 52, 38, 17, 14, 91, 43, 58, 50, 27, 29, 48],\n",
       " [63, 66, 4, 68, 89, 53, 67, 30, 73, 16, 69, 87, 40, 31],\n",
       " [4, 62, 98, 27, 23, 9, 70, 98, 73, 93, 38, 53, 60, 4, 23]]"
      ]
     },
     "execution_count": 2,
     "metadata": {},
     "output_type": "execute_result"
    }
   ],
   "source": [
    "triangle"
   ]
  },
  {
   "cell_type": "code",
   "execution_count": 25,
   "metadata": {},
   "outputs": [
    {
     "name": "stdout",
     "output_type": "stream",
     "text": [
      "171\n"
     ]
    }
   ],
   "source": [
    "year = 1900\n",
    "month = 1\n",
    "day_month = 1\n",
    "days_total = 1\n",
    "count = 0\n",
    "\n",
    "def month_days(year, month):\n",
    "    return {1: 31,\n",
    "            2: 29 if year % 4 == 0 else 28,\n",
    "            3: 31, 4: 30, 5: 31, 6: 30, 7:31,\n",
    "            8: 31, 9: 30, 10: 31, 11: 30, 12: 31}[month]\n",
    "\n",
    "while year != 2001:\n",
    "    if year >= 1901 and day_month == 1 and days_total % 7 == 0:\n",
    "        count += 1\n",
    "    day_month += 1\n",
    "    days_total += 1\n",
    "    if month_days(year, month) < day_month:\n",
    "        day_month = 1\n",
    "        month += 1\n",
    "        if month == 13:\n",
    "            month = 1\n",
    "            year += 1\n",
    "\n",
    "print(count)"
   ]
  },
  {
   "cell_type": "code",
   "execution_count": 20,
   "metadata": {},
   "outputs": [
    {
     "data": {
      "text/plain": [
       "36941"
      ]
     },
     "execution_count": 20,
     "metadata": {},
     "output_type": "execute_result"
    }
   ],
   "source": [
    "days_total"
   ]
  },
  {
   "cell_type": "code",
   "execution_count": null,
   "metadata": {},
   "outputs": [],
   "source": []
  }
 ],
 "metadata": {
  "kernelspec": {
   "display_name": "Python 3",
   "language": "python",
   "name": "python3"
  },
  "language_info": {
   "codemirror_mode": {
    "name": "ipython",
    "version": 3
   },
   "file_extension": ".py",
   "mimetype": "text/x-python",
   "name": "python",
   "nbconvert_exporter": "python",
   "pygments_lexer": "ipython3",
   "version": "3.6.5"
  }
 },
 "nbformat": 4,
 "nbformat_minor": 2
}
